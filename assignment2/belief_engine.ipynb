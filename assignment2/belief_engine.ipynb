{
 "cells": [
  {
   "cell_type": "markdown",
   "metadata": {},
   "source": [
    "# Belief Revision Assignment\n",
    "\n",
    "02180 Introduction to Artificial Intelligence"
   ]
  },
  {
   "cell_type": "markdown",
   "metadata": {},
   "source": [
    "You are asked to implement a belief revision agent. By default, the project should run through\n",
    "the following sequence of stages:\n",
    "1. design and implementation of belief base;\n",
    "2. design and implementation of a method for checking logical entailment (e.g., resolution-based), you should implement it yourself, without using any existing packages;\n",
    "3. implementation of contraction of belief base (based on a priority order on alphas in the belief base);\n",
    "4. implementation of expansion of belief base.\n",
    "The output should be the resulting/new belief base."
   ]
  },
  {
   "cell_type": "markdown",
   "metadata": {},
   "source": [
    "## TODO\n",
    "\n",
    "- [ ] Method to check logical entailment\n",
    "- [ ] Contraction of belief base\n",
    "- [ ] Expansion of belief base\n",
    "- [ ] Use AGM postulates (lecture 11) to test your algorithm"
   ]
  },
  {
   "cell_type": "code",
   "execution_count": 334,
   "metadata": {},
   "outputs": [],
   "source": [
    "from sympy.logic.boolalg import to_cnf, Equivalent\n",
    "from sympy.logic.boolalg import Or, And, Not"
   ]
  },
  {
   "cell_type": "code",
   "execution_count": 335,
   "metadata": {},
   "outputs": [],
   "source": [
    "def removeall(item, seq):\n",
    "    return [x for x in seq if x != item]\n",
    "\n",
    "def unique(seq):\n",
    "    return list(set(seq))\n",
    "\n",
    "def disjuncts(clause):\n",
    "    return dissociate(Or, [clause])\n",
    "\n",
    "def conjuncts(clause):\n",
    "    return dissociate(And, [clause])\n",
    "\n",
    "def associate(op, args):\n",
    "    args = dissociate(op, args)\n",
    "    if len(args) == 0:\n",
    "        return op.identity\n",
    "    elif len(args) == 1:\n",
    "        return args[0]\n",
    "    else:\n",
    "        return op(*args)\n",
    "\n",
    "def dissociate(op, args):\n",
    "    result = []\n",
    "\n",
    "    def collect(subargs):\n",
    "        for arg in subargs:\n",
    "            if isinstance(arg, op):\n",
    "                collect(arg.args)\n",
    "            else:\n",
    "                result.append(arg)\n",
    "\n",
    "    collect(args)\n",
    "    return result"
   ]
  },
  {
   "cell_type": "code",
   "execution_count": 336,
   "metadata": {},
   "outputs": [],
   "source": [
    "class BeliefBase:\n",
    "    def __init__(self):\n",
    "        self.beliefs = []\n",
    "        self.belief_base = []\n",
    "\n",
    "    def add_belief(self, belief) -> None:\n",
    "        \"\"\"Add a belief to the belief base, keeping the belief base in CNF form\"\"\"\n",
    "        belief = to_cnf(belief)\n",
    "        #if belief.is_Atom:\n",
    "         #   belief = to_cnf(And(belief, belief))\n",
    "        self.belief_base.append(belief)\n",
    "\n",
    "    def pl_resolution(self, formula):\n",
    "        \"\"\"\n",
    "        Resolution-based entailment check for base |- formula.\n",
    "        \"\"\"\n",
    "\n",
    "        formula = to_cnf(formula)\n",
    "\n",
    "        # Split base into conjuncts\n",
    "        clauses = []\n",
    "        for f in self.belief_base:\n",
    "            clauses += conjuncts(f)\n",
    "        # Add contradiction to start resolution\n",
    "        clauses += conjuncts(to_cnf(~formula))\n",
    "\n",
    "        # Special case if one clause is already False\n",
    "        if False in clauses:\n",
    "            return True\n",
    "\n",
    "        result = set()\n",
    "        while True:\n",
    "            n = len(clauses)\n",
    "            pairs = [\n",
    "                (clauses[i], clauses[j])\n",
    "                for i in range(n) for j in range(i + 1, n)\n",
    "            ]\n",
    "\n",
    "            for ci, cj in pairs:\n",
    "                resolvents = self.pl_resolve(ci, cj)\n",
    "                if False in resolvents:\n",
    "                    return True\n",
    "                result = result.union(set(resolvents))\n",
    "\n",
    "            if result.issubset(set(clauses)):\n",
    "                return False\n",
    "            for c in result:\n",
    "                if c not in clauses:\n",
    "                    clauses.append(c)\n",
    "\n",
    "\n",
    "    def pl_resolve(self, ci, cj):\n",
    "        \"\"\"\n",
    "        Generate all clauses that can be obtained by applying\n",
    "        the resolution rule on ci and cj.\n",
    "        \"\"\"\n",
    "\n",
    "        clauses = []\n",
    "        dci = disjuncts(ci)\n",
    "        dcj = disjuncts(cj)\n",
    "\n",
    "        for di in dci:\n",
    "            for dj in dcj:\n",
    "                # If di, dj are complementary\n",
    "                if di == ~dj or ~di == dj:\n",
    "                    # Create list of all disjuncts except di and dj\n",
    "                    res = removeall(di, dci) + removeall(dj, dcj)\n",
    "                    # Remove duplicates\n",
    "                    res = unique(res)\n",
    "                    # Join into new clause\n",
    "                    dnew = associate(Or, res)\n",
    "\n",
    "                    clauses.append(dnew)\n",
    "\n",
    "        return clauses\n",
    "\n",
    "    def __str__(self):\n",
    "        return str(self.belief_base)"
   ]
  },
  {
   "cell_type": "code",
   "execution_count": 339,
   "metadata": {},
   "outputs": [
    {
     "name": "stdout",
     "output_type": "stream",
     "text": [
      "After adding: [p & q]\n",
      "entails p | q: True\n"
     ]
    }
   ],
   "source": [
    "# Create an instance of BeliefBase\n",
    "kb = BeliefBase()\n",
    "\n",
    "# Add a belief to the belief base\n",
    "kb.add_belief(\"q & p\")\n",
    "# belief_base.add_belief(\"r | s\")\n",
    "print(f\"After adding: {kb}\")\n",
    "\n",
    "# Check if a belief is entailed by the belief base\n",
    "alpha = \"p | q\"\n",
    "entails = kb.pl_resolution(alpha)\n",
    "print(f\"entails {alpha}: {entails}\")\n",
    "\n",
    "# The problem is that we have to feed the resolution function with a discunction form and a sentence\n",
    "# We also have to adapt the transformation functions to how our belief base works"
   ]
  },
  {
   "cell_type": "code",
   "execution_count": null,
   "metadata": {},
   "outputs": [],
   "source": []
  },
  {
   "cell_type": "code",
   "execution_count": null,
   "metadata": {},
   "outputs": [],
   "source": []
  },
  {
   "cell_type": "code",
   "execution_count": null,
   "metadata": {},
   "outputs": [],
   "source": []
  },
  {
   "cell_type": "code",
   "execution_count": null,
   "metadata": {},
   "outputs": [],
   "source": []
  }
 ],
 "metadata": {
  "kernelspec": {
   "display_name": "ai2",
   "language": "python",
   "name": "python3"
  },
  "language_info": {
   "codemirror_mode": {
    "name": "ipython",
    "version": 3
   },
   "file_extension": ".py",
   "mimetype": "text/x-python",
   "name": "python",
   "nbconvert_exporter": "python",
   "pygments_lexer": "ipython3",
   "version": "3.11.7"
  }
 },
 "nbformat": 4,
 "nbformat_minor": 2
}
