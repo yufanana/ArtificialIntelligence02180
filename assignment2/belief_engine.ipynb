{
 "cells": [
  {
   "cell_type": "markdown",
   "metadata": {},
   "source": [
    "# Belief Revision Assignment\n",
    "\n",
    "02180 Introduction to Artificial Intelligence"
   ]
  },
  {
   "cell_type": "markdown",
   "metadata": {},
   "source": [
    "You are asked to implement a belief revision agent. By default, the project should run through\n",
    "the following sequence of stages:\n",
    "1. design and implementation of belief base;\n",
    "2. design and implementation of a method for checking logical entailment (e.g., resolution-based), you should implement it yourself, without using any existing packages;\n",
    "3. implementation of contraction of belief base (based on a priority order on alphas in the belief base);\n",
    "4. implementation of expansion of belief base.\n",
    "The output should be the resulting/new belief base."
   ]
  },
  {
   "cell_type": "markdown",
   "metadata": {},
   "source": [
    "## TODO\n",
    "\n",
    "- [ ] Method to check logical entailment\n",
    "- [ ] Contraction of belief base\n",
    "- [ ] Expansion of belief base\n",
    "- [ ] Use AGM postulates (lecture 11) to test your algorithm"
   ]
  },
  {
   "cell_type": "code",
   "execution_count": 9,
   "metadata": {},
   "outputs": [],
   "source": [
    "from sympy import to_cnf\n",
    "from sympy import Or, And, Not"
   ]
  },
  {
   "cell_type": "code",
   "execution_count": 10,
   "metadata": {},
   "outputs": [],
   "source": [
    "def disjuncts(clause):\n",
    "    #Adapted from tdiam's GitHub repository \"belief-revision-engine\"\n",
    "    return dissociate(Or, [clause])\n",
    "\n",
    "def conjuncts(clause):\n",
    "    #Adapted from tdiam's GitHub repository \"belief-revision-engine\"\n",
    "    return dissociate(And, [clause])\n",
    "\n",
    "def dissociate(op, args):\n",
    "    #Adapted from tdiam's GitHub repository \"belief-revision-engine\"\n",
    "    result = []\n",
    "\n",
    "    def collect(subargs):\n",
    "        for arg in subargs:\n",
    "            if isinstance(arg, op):\n",
    "                collect(arg.args)\n",
    "            else:\n",
    "                result.append(arg)\n",
    "\n",
    "    collect(args)\n",
    "    return result\n",
    "\n",
    "def make_clause(args):\n",
    "    args = dissociate(Or, args)\n",
    "    # if there are no arguments, return False\n",
    "    if len(args) == 0:\n",
    "        return False\n",
    "    elif len(args) == 1:\n",
    "        return args[0]\n",
    "    else:\n",
    "        return Or(*args)"
   ]
  },
  {
   "cell_type": "code",
   "execution_count": 11,
   "metadata": {},
   "outputs": [],
   "source": [
    "from sympy import Equality\n",
    "\n",
    "\n",
    "class BeliefBase:\n",
    "    def __init__(self):\n",
    "        self.beliefs = []\n",
    "        self.belief_base = []\n",
    "\n",
    "    def add_belief(self, belief) -> None:\n",
    "        \"\"\"Add a belief to the belief base, keeping the belief base in CNF form\"\"\"\n",
    "        belief = to_cnf(belief)\n",
    "        #if belief.is_Atom:\n",
    "         #   belief = to_cnf(And(belief, belief))\n",
    "        self.belief_base.append(belief)\n",
    "\n",
    "    def pl_resolution(self, alpha):\n",
    "        \"\"\"\n",
    "        Implements the pl-resolution algorithm for clauses resolution.\n",
    "\n",
    "        Args:\n",
    "            alpha (sympy.Expr): A SymPy sentence representing the query.\n",
    "\n",
    "        Returns:\n",
    "            bool: True if the query is entailed by the knowledge base, False otherwise.\n",
    "        \"\"\"\n",
    "        # Split each clause in the base by the \"And\" symbol, turning them into a list of disjunctions\n",
    "        clauses = []\n",
    "        for clause in self.belief_base:\n",
    "            clauses += conjuncts(clause)\n",
    "        # Add negation of alpha as clause\n",
    "        alpha_lit = conjuncts(to_cnf(Not(alpha)))\n",
    "        for clause in alpha_lit:\n",
    "            clauses.append(clause)\n",
    "\n",
    "        new_clauses = set()  \n",
    "        while True:\n",
    "            resolvents = set()\n",
    "            for ci in clauses:\n",
    "                for cj in clauses:\n",
    "                    if ci != cj:\n",
    "                        resolvents |= self.pl_resolve(ci, cj)\n",
    "                if any(clause == False for clause in resolvents):  # Empty clause found\n",
    "                    return True\n",
    "\n",
    "            if resolvents.issubset(clauses):  # No new clauses derived\n",
    "                return False\n",
    "\n",
    "            new_clauses |= resolvents\n",
    "            clauses.extend(new_clauses)\n",
    "\n",
    "    def pl_resolve(self, clause1, clause2):\n",
    "        \"\"\"\n",
    "        Performs the resolution of two clauses.\n",
    "\n",
    "        Args:\n",
    "            clause1 (sympy.Expr): A SymPy sentence representing a clause.\n",
    "            clause2 (sympy.Expr): A SymPy sentence representing a clause.\n",
    "\n",
    "        Returns:\n",
    "            set: The set of caluses resulting from the resolution operation.\n",
    "        \"\"\"\n",
    "        clause1 = disjuncts(clause1)\n",
    "        clause2 = disjuncts(clause2)\n",
    "        resolvents = set()\n",
    "\n",
    "        for ci in clause1:\n",
    "            for cj in clause2:\n",
    "                if ci == Not(cj) or cj == Not(ci):\n",
    "                    # remove ci and cj from resolved clause\n",
    "                    res = (set(clause1) - {ci}).union(set(clause2) - {cj})\n",
    "                    resolvents.add(make_clause(res))\n",
    "        return resolvents\n",
    "                    \n",
    "\n",
    "    def __str__(self):\n",
    "        return str(self.belief_base)"
   ]
  },
  {
   "cell_type": "code",
   "execution_count": 12,
   "metadata": {},
   "outputs": [
    {
     "name": "stdout",
     "output_type": "stream",
     "text": [
      "After adding: [p & q & ~r]\n",
      "entails q & Not(r): True\n"
     ]
    }
   ],
   "source": [
    "# Create an instance of BeliefBase\n",
    "kb = BeliefBase()\n",
    "\n",
    "# Add a belief to the belief base\n",
    "kb.add_belief(\"q & p & Not(r)\")\n",
    "# belief_base.add_belief(\"r | s\")\n",
    "print(f\"After adding: {kb}\")\n",
    "\n",
    "# Check if a belief is entailed by the belief base\n",
    "alpha = \"q & Not(r)\"\n",
    "entails = kb.pl_resolution(alpha)\n",
    "print(f\"entails {alpha}: {entails}\")\n",
    "\n",
    "# The problem is that we have to feed the resolution function with a discunction form and a sentence\n",
    "# We also have to adapt the transformation functions to how our belief base works"
   ]
  },
  {
   "cell_type": "code",
   "execution_count": null,
   "metadata": {},
   "outputs": [],
   "source": []
  },
  {
   "cell_type": "code",
   "execution_count": null,
   "metadata": {},
   "outputs": [],
   "source": []
  },
  {
   "cell_type": "code",
   "execution_count": null,
   "metadata": {},
   "outputs": [],
   "source": []
  },
  {
   "cell_type": "code",
   "execution_count": null,
   "metadata": {},
   "outputs": [],
   "source": []
  }
 ],
 "metadata": {
  "kernelspec": {
   "display_name": "ai2",
   "language": "python",
   "name": "python3"
  },
  "language_info": {
   "codemirror_mode": {
    "name": "ipython",
    "version": 3
   },
   "file_extension": ".py",
   "mimetype": "text/x-python",
   "name": "python",
   "nbconvert_exporter": "python",
   "pygments_lexer": "ipython3",
   "version": "3.11.7"
  }
 },
 "nbformat": 4,
 "nbformat_minor": 2
}
