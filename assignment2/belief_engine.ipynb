{
 "cells": [
  {
   "cell_type": "markdown",
   "metadata": {},
   "source": [
    "# Belief Revision Assignment\n",
    "\n",
    "02180 Introduction to Artificial Intelligence"
   ]
  },
  {
   "cell_type": "markdown",
   "metadata": {},
   "source": [
    "You are asked to implement a belief revision agent. By default, the project should run through\n",
    "the following sequence of stages:\n",
    "1. design and implementation of belief base;\n",
    "2. design and implementation of a method for checking logical entailment (e.g., resolution-based), you should implement it yourself, without using any existing packages;\n",
    "3. implementation of contraction of belief base (based on a priority order on formulas in the belief base);\n",
    "4. implementation of expansion of belief base.\n",
    "The output should be the resulting/new belief base."
   ]
  },
  {
   "cell_type": "markdown",
   "metadata": {},
   "source": [
    "## TODO\n",
    "\n",
    "- [ ] Method to check logical entailment\n",
    "- [ ] Contraction of belief base\n",
    "- [ ] Expansion of belief base\n",
    "- [ ] Use AGM postulates (lecture 11) to test your algorithm"
   ]
  },
  {
   "cell_type": "code",
   "execution_count": 1,
   "metadata": {},
   "outputs": [],
   "source": [
    "from sympy.logic.boolalg import to_cnf, Equivalent"
   ]
  },
  {
   "cell_type": "code",
   "execution_count": 2,
   "metadata": {},
   "outputs": [],
   "source": [
    "class BeliefBase:\n",
    "    def __init__(self):\n",
    "        self.beliefs = []\n",
    "        self.belief_base = []\n",
    "\n",
    "    def add_belief(self, belief) -> None:\n",
    "        self.beliefs.append(belief)\n",
    "        self.belief_base.append(to_cnf(belief))\n",
    "\n",
    "    def entails(self, belief) -> bool:\n",
    "        belief = to_cnf(belief)\n",
    "        for b in self.belief_base:\n",
    "            if Equivalent(b, belief):\n",
    "                return True\n",
    "        return False\n",
    "\n",
    "    def contraction(self, belief) -> None:\n",
    "        belief = to_cnf(belief)\n",
    "        new_belief_base = []\n",
    "        for b in self.belief_base:\n",
    "            if not Equivalent(b, belief):\n",
    "                new_belief_base.append(b)\n",
    "        self.belief_base = new_belief_base\n",
    "\n",
    "    def revision(self, belief) -> None:\n",
    "        belief = to_cnf(belief)\n",
    "        self.belief_base.append(belief)\n",
    "\n",
    "    def __str__(self):\n",
    "        return str(self.belief_base)"
   ]
  },
  {
   "cell_type": "code",
   "execution_count": 6,
   "metadata": {},
   "outputs": [
    {
     "name": "stdout",
     "output_type": "stream",
     "text": [
      "After adding: [p]\n",
      "entails p: True\n",
      "After contraction: []\n",
      "After revision: [q]\n"
     ]
    }
   ],
   "source": [
    "# Create an instance of BeliefBase\n",
    "belief_base = BeliefBase()\n",
    "\n",
    "# Add a belief to the belief base\n",
    "belief_base.add_belief(\"p\")\n",
    "print(f\"After adding: {belief_base}\")\n",
    "\n",
    "# Check if a belief is entailed by the belief base\n",
    "entails = belief_base.entails(\"p\")\n",
    "print(f\"entails p: {entails}\")\n",
    "\n",
    "# Perform contraction on the belief base\n",
    "belief_base.contraction(\"p\")\n",
    "print(f\"After contraction: {belief_base}\")\n",
    "\n",
    "# Perform revision on the belief base\n",
    "belief_base.revision(\"q\")\n",
    "print(f\"After revision: {belief_base}\")"
   ]
  },
  {
   "cell_type": "code",
   "execution_count": null,
   "metadata": {},
   "outputs": [],
   "source": []
  },
  {
   "cell_type": "code",
   "execution_count": null,
   "metadata": {},
   "outputs": [],
   "source": []
  },
  {
   "cell_type": "code",
   "execution_count": null,
   "metadata": {},
   "outputs": [],
   "source": []
  },
  {
   "cell_type": "code",
   "execution_count": null,
   "metadata": {},
   "outputs": [],
   "source": []
  }
 ],
 "metadata": {
  "kernelspec": {
   "display_name": "ai2",
   "language": "python",
   "name": "python3"
  },
  "language_info": {
   "codemirror_mode": {
    "name": "ipython",
    "version": 3
   },
   "file_extension": ".py",
   "mimetype": "text/x-python",
   "name": "python",
   "nbconvert_exporter": "python",
   "pygments_lexer": "ipython3",
   "version": "3.12.2"
  }
 },
 "nbformat": 4,
 "nbformat_minor": 2
}
