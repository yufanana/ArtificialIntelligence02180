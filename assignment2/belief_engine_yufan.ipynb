{
 "cells": [
  {
   "cell_type": "markdown",
   "metadata": {},
   "source": [
    "# Belief Revision Assignment\n",
    "\n",
    "02180 Introduction to Artificial Intelligence"
   ]
  },
  {
   "cell_type": "markdown",
   "metadata": {},
   "source": [
    "You are asked to implement a belief revision agent. By default, the project should run through\n",
    "the following sequence of stages:\n",
    "1. design and implementation of belief base;\n",
    "2. design and implementation of a method for checking logical entailment (e.g., resolution-based), you should implement it yourself, without using any existing packages;\n",
    "3. implementation of contraction of belief base (based on a priority order on alphas in the belief base);\n",
    "4. implementation of expansion of belief base.\n",
    "The output should be the resulting/new belief base."
   ]
  },
  {
   "cell_type": "markdown",
   "metadata": {},
   "source": [
    "## TODO\n",
    "\n",
    "- [ ] Method to check logical entailment\n",
    "- [ ] Contraction of belief base\n",
    "- [ ] Expansion of belief base\n",
    "- [ ] Use AGM postulates (lecture 11) to test your algorithm"
   ]
  },
  {
   "cell_type": "code",
   "execution_count": 1,
   "metadata": {},
   "outputs": [],
   "source": [
    "from sympy.logic.boolalg import (\n",
    "    to_cnf,\n",
    "    Not,\n",
    "    And,\n",
    "    Or,\n",
    "    Implies,\n",
    "    Equivalent,\n",
    ")\n",
    "# from sympy import Equality"
   ]
  },
  {
   "cell_type": "code",
   "execution_count": 2,
   "metadata": {},
   "outputs": [],
   "source": [
    "def disjuncts(clause) -> list:\n",
    "    \"\"\"\n",
    "    Separate the clause by the Or operator.\n",
    "\n",
    "    Returns:\n",
    "        list: a list of disjuncts in the given clause.\n",
    "\n",
    "    Adapted from https://github.com/tdiam/belief-revision-engine\n",
    "\n",
    "    Usage:\n",
    "        disjuncts(A | B | C) -> [A, B, C]\n",
    "        disjuncts(A | (B & C)) -> [A, B & C]\n",
    "    \"\"\"\n",
    "    return dissociate(Or, [clause])\n",
    "\n",
    "\n",
    "def conjuncts(clause) -> list:\n",
    "    \"\"\"\n",
    "    Separate the clause by the And operator.\n",
    "\n",
    "    Returns:\n",
    "        list: a list of conjuncts in the given clause.\n",
    "\n",
    "    Adapted from https://github.com/tdiam/belief-revision-engine\n",
    "\n",
    "    Usage:\n",
    "        conjuncts(A & B & C) -> [A, B, C]\n",
    "    \"\"\"\n",
    "    return dissociate(And, [clause])\n",
    "\n",
    "\n",
    "def dissociate(op, args: list) -> list:\n",
    "    \"\"\"\n",
    "    Separate the arguments of a clause by the given operator.\n",
    "\n",
    "    Adapted from https://github.com/tdiam/belief-revision-engine\n",
    "\n",
    "    Args:\n",
    "        op (And, Or): the SymPy operator to separate the arguments by\n",
    "        args (list): the arguments to dissociate\n",
    "\n",
    "    Returns:\n",
    "        list: a list of arguments in the given clause\n",
    "\n",
    "    Usage:\n",
    "        dissociate(Or, [A | B | C]) -> [A, B, C]\n",
    "        dissociate(And, [A & B & C]) -> [A, B, C]\n",
    "        dissociate(Or, [A | B & C]) -> [A, B & C]\n",
    "    \"\"\"\n",
    "    result = []\n",
    "\n",
    "    def collect(subargs):\n",
    "        for arg in subargs:\n",
    "            if isinstance(arg, op):\n",
    "                collect(arg.args)\n",
    "            else:\n",
    "                result.append(arg)\n",
    "\n",
    "    collect(args)\n",
    "    return result\n",
    "\n",
    "\n",
    "def make_clause(args):\n",
    "    \"\"\"\n",
    "    Create a disjunction of clauses from a list of arguments.\n",
    "\n",
    "    Usage:\n",
    "        make_clause([A, B, C]) -> A | B | C\n",
    "        make_clause([A, B & C]) -> A | (B & C)\n",
    "    \"\"\"\n",
    "    args = dissociate(Or, args)\n",
    "    if len(args) == 0:  # there are no arguments\n",
    "        return False\n",
    "    elif len(args) == 1:\n",
    "        return args[0]\n",
    "    else:\n",
    "        return Or(*args)"
   ]
  },
  {
   "cell_type": "code",
   "execution_count": 43,
   "metadata": {},
   "outputs": [
    {
     "data": {
      "text/latex": [
       "$\\displaystyle \\left(A \\vee B\\right) \\wedge \\left(A \\vee C\\right)$"
      ],
      "text/plain": [
       "(A | B) & (A | C)"
      ]
     },
     "execution_count": 43,
     "metadata": {},
     "output_type": "execute_result"
    }
   ],
   "source": [
    "# Demonstration of the functions above\n",
    "to_cnf(\"A | B & C\")"
   ]
  },
  {
   "cell_type": "code",
   "execution_count": 22,
   "metadata": {},
   "outputs": [
    {
     "data": {
      "text/plain": [
       "[A | C, B | C]"
      ]
     },
     "execution_count": 22,
     "metadata": {},
     "output_type": "execute_result"
    }
   ],
   "source": [
    "conjuncts(to_cnf(\"(A & B) | C\"))"
   ]
  },
  {
   "cell_type": "code",
   "execution_count": 17,
   "metadata": {},
   "outputs": [
    {
     "data": {
      "text/plain": [
       "[A, B, C]"
      ]
     },
     "execution_count": 17,
     "metadata": {},
     "output_type": "execute_result"
    }
   ],
   "source": [
    "disjuncts(to_cnf(\"A | B | C\"))"
   ]
  },
  {
   "cell_type": "code",
   "execution_count": 5,
   "metadata": {},
   "outputs": [
    {
     "data": {
      "text/plain": [
       "[A, B, C]"
      ]
     },
     "execution_count": 5,
     "metadata": {},
     "output_type": "execute_result"
    }
   ],
   "source": [
    "dissociate(Or, [to_cnf(\"A | B | C\")])"
   ]
  },
  {
   "cell_type": "code",
   "execution_count": 37,
   "metadata": {},
   "outputs": [
    {
     "data": {
      "text/plain": [
       "[A | B, A | C]"
      ]
     },
     "execution_count": 37,
     "metadata": {},
     "output_type": "execute_result"
    }
   ],
   "source": [
    "dissociate(And, [to_cnf(\"A | B & C\")])"
   ]
  },
  {
   "cell_type": "code",
   "execution_count": 41,
   "metadata": {},
   "outputs": [
    {
     "data": {
      "text/latex": [
       "$\\displaystyle A \\vee \\left(B \\wedge C\\right)$"
      ],
      "text/plain": [
       "A | (B & C)"
      ]
     },
     "execution_count": 41,
     "metadata": {},
     "output_type": "execute_result"
    }
   ],
   "source": [
    "make_clause(to_cnf([\"A | B & C\"]))"
   ]
  },
  {
   "cell_type": "code",
   "execution_count": 7,
   "metadata": {},
   "outputs": [],
   "source": [
    "class BeliefBase:\n",
    "    def __init__(self) -> None:\n",
    "        self.beliefs = []\n",
    "        self.belief_base = []\n",
    "        self.operations = set([Not, And, Or, Implies, Equivalent])\n",
    "\n",
    "    # def add_belief(self, belief) -> None:\n",
    "    #     \"\"\"Add a belief to the belief base, keeping the belief base in CNF form\"\"\"\n",
    "    #     belief = to_cnf(belief)\n",
    "    #     #if belief.is_Atom:\n",
    "    #      #   belief = to_cnf(And(belief, belief))\n",
    "    #     self.belief_base.append(belief)\n",
    "\n",
    "    def add_belief(self, belief: str) -> None:\n",
    "        \"\"\"Beliefs are added as CNF formulas.\"\"\"\n",
    "        self.beliefs.append(belief)\n",
    "\n",
    "        # Eliminate bi-implications, assume one bi-imp per belief\n",
    "        ## Find the bi-imp operator\n",
    "        imp_op = None\n",
    "        belief_s = belief.split()\n",
    "        for i in range(len(belief_s)):\n",
    "            if belief_s[i] == \"<>\":\n",
    "                a = \" \".join(belief_s[:i])\n",
    "                b = \" \".join(belief_s[i + 1 :])\n",
    "                imp_op = belief_s[i]\n",
    "                break\n",
    "        ## Add the beliefs to the belief base\n",
    "        if imp_op is None:  # No bi-imp op found\n",
    "            self.belief_base.append(to_cnf(belief))\n",
    "        elif imp_op == \"<>\":\n",
    "            imply1 = to_cnf(f\"{a} >> {b}\")\n",
    "            imply2 = to_cnf(f\"{b} >> {a}\")\n",
    "            self.belief_base.extend([imply1, imply2])\n",
    "        else:\n",
    "            raise ValueError(\"Invalid implication operator\")\n",
    "\n",
    "    def pl_resolution(self, alpha) -> bool:\n",
    "        \"\"\"\n",
    "        Implements the pl-resolution algorithm for clauses resolution\n",
    "        to check for entailment.\n",
    "\n",
    "        Args:\n",
    "            alpha (sympy.Expr): A SymPy sentence representing the query.\n",
    "\n",
    "        Returns:\n",
    "            bool: True if the query is entailed by the knowledge base, False otherwise.\n",
    "        \"\"\"\n",
    "        # Split each clause in the base by the \"And\" symbol\n",
    "        clauses = []  # KB as list of disjunctions (CNF form)\n",
    "        for clause in self.belief_base:\n",
    "            clauses += conjuncts(clause)\n",
    "\n",
    "        # Convert KB & ~alpha to CNF\n",
    "        alpha_lit = conjuncts(to_cnf(Not(alpha)))  # Add negation of alpha as clause\n",
    "        for clause in alpha_lit:\n",
    "            clauses.append(clause)\n",
    "\n",
    "        # Apply resolution rule to resulting clauses\n",
    "        new_clauses = set()\n",
    "        while True:\n",
    "            resolvents = set()\n",
    "            for ci in clauses:\n",
    "                for cj in clauses:\n",
    "                    if ci != cj:\n",
    "                        resolvents |= self.pl_resolve(ci, cj)\n",
    "                if any(clause is False for clause in resolvents):  # Empty clause found\n",
    "                    return True\n",
    "\n",
    "            if resolvents.issubset(clauses):  # No new clauses derived\n",
    "                return False\n",
    "\n",
    "            # Add new clauses to KB\n",
    "            new_clauses |= resolvents\n",
    "            clauses.extend(new_clauses)\n",
    "\n",
    "    def pl_resolve(self, clause1, clause2) -> set:\n",
    "        \"\"\"\n",
    "        Performs the full resolution of two clauses.\n",
    "\n",
    "        Args:\n",
    "            clause1 (sympy.Expr): A SymPy sentence representing a clause.\n",
    "            clause2 (sympy.Expr): A SymPy sentence representing a clause.\n",
    "\n",
    "        Returns:\n",
    "            set: a set of resulting clauses from resolution.\n",
    "\n",
    "        Usage:\n",
    "            pl_resolve(A | B | C | ~D, ~A | D | E | F) -> {B | C | D | E | F}\n",
    "        \"\"\"\n",
    "        clause1 = disjuncts(clause1)\n",
    "        clause2 = disjuncts(clause2)\n",
    "        resolvents = set()\n",
    "\n",
    "        for ci in clause1:\n",
    "            for cj in clause2:\n",
    "                if ci == Not(cj) or cj == Not(ci):\n",
    "                    # remove ci and cj from resolved clause\n",
    "                    res = (set(clause1) - {ci}).union(set(clause2) - {cj})\n",
    "                    resolvents.add(make_clause(res))\n",
    "        return resolvents\n",
    "\n",
    "    def __str__(self) -> str:\n",
    "        return str(self.belief_base)"
   ]
  },
  {
   "cell_type": "markdown",
   "metadata": {},
   "source": [
    "| Operation | Symbol |\n",
    "|:----- | :----- |\n",
    "| Bi-implication | `<>` |\n",
    "| Implication | `>>` or `<<` |\n",
    "| Conjunction | `&` |\n",
    "| Disjunction | `\\|` |\n",
    "| Negation | `~` |"
   ]
  },
  {
   "cell_type": "code",
   "execution_count": 10,
   "metadata": {},
   "outputs": [
    {
     "name": "stdout",
     "output_type": "stream",
     "text": [
      "After adding: [p & q & ~r, r | s]\n",
      "entails q & ~r: True\n"
     ]
    }
   ],
   "source": [
    "# Create an instance of BeliefBase\n",
    "kb = BeliefBase()\n",
    "\n",
    "# Add to the belief base\n",
    "kb.add_belief(\"q & p & ~r\")\n",
    "kb.add_belief(\"r | s\")\n",
    "print(f\"After adding: {kb}\")\n",
    "\n",
    "# Check if a belief is entailed by the belief base\n",
    "alpha = \"q & ~r\"\n",
    "entails = kb.pl_resolution(alpha)\n",
    "print(f\"entails {alpha}: {entails}\")\n",
    "\n",
    "# The problem is that we have to feed the resolution function with a disjunction form and a sentence\n",
    "# We also have to adapt the transformation functions to how our belief base works"
   ]
  },
  {
   "cell_type": "code",
   "execution_count": 9,
   "metadata": {},
   "outputs": [
    {
     "name": "stdout",
     "output_type": "stream",
     "text": [
      "After adding: [p & q & ~r]\n",
      "After adding: [p & q & ~r, p | s | ~r, p | r | ~s]\n"
     ]
    }
   ],
   "source": [
    "# Test of add_belief() with bi-implication\n",
    "kb = BeliefBase()\n",
    "\n",
    "kb.add_belief(\"q & p & ~r\")\n",
    "print(f\"After adding: {kb}\")\n",
    "\n",
    "kb.add_belief(\"r <> p | s\")\n",
    "print(f\"After adding: {kb}\")"
   ]
  },
  {
   "cell_type": "code",
   "execution_count": null,
   "metadata": {},
   "outputs": [],
   "source": []
  }
 ],
 "metadata": {
  "kernelspec": {
   "display_name": "ai2",
   "language": "python",
   "name": "python3"
  },
  "language_info": {
   "codemirror_mode": {
    "name": "ipython",
    "version": 3
   },
   "file_extension": ".py",
   "mimetype": "text/x-python",
   "name": "python",
   "nbconvert_exporter": "python",
   "pygments_lexer": "ipython3",
   "version": "3.12.2"
  }
 },
 "nbformat": 4,
 "nbformat_minor": 2
}
