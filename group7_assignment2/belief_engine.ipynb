{
 "cells": [
  {
   "cell_type": "markdown",
   "metadata": {},
   "source": [
    "# Belief Revision Assignment\n",
    "\n",
    "Group 7\n",
    "\n",
    "02180 Introduction to Artificial Intelligence"
   ]
  },
  {
   "cell_type": "markdown",
   "metadata": {},
   "source": [
    "The following symbols are used to input beliefs.\n",
    "\n",
    "| Operation | Symbol |\n",
    "|:----- | :----- |\n",
    "| Bi-implication | `<>` |\n",
    "| Implication | `>>` or `<<` |\n",
    "| Conjunction | `&` |\n",
    "| Disjunction | `\\|` |\n",
    "| Negation | `~` |"
   ]
  },
  {
   "cell_type": "code",
   "execution_count": 1,
   "metadata": {},
   "outputs": [],
   "source": [
    "from sympy.logic.boolalg import (\n",
    "    Not,\n",
    ")\n",
    "from BeliefEngine import BeliefBase"
   ]
  },
  {
   "cell_type": "code",
   "execution_count": 2,
   "metadata": {},
   "outputs": [
    {
     "name": "stdout",
     "output_type": "stream",
     "text": [
      "KB: [a, d | ~a, a | ~d, b | ~a, b & c, d | e, a | c]\n"
     ]
    }
   ],
   "source": [
    "kb = BeliefBase()\n",
    "\n",
    "# Expansion test\n",
    "kb.expand(\"a\")\n",
    "kb.expand(\"a <> d\")\n",
    "kb.expand(\"a >> b\")\n",
    "kb.expand(\"b & c\")\n",
    "kb.expand(\"d | e\")\n",
    "kb.expand(\"a | c\")\n",
    "print(f\"KB: {kb}\")"
   ]
  },
  {
   "cell_type": "code",
   "execution_count": 6,
   "metadata": {},
   "outputs": [
    {
     "name": "stdout",
     "output_type": "stream",
     "text": [
      "KB entails \"~c\" : True\n",
      "KB entails \"c\" : False\n"
     ]
    }
   ],
   "source": [
    "# Entailment test\n",
    "alpha = \"~c\"\n",
    "entails = kb.pl_resolution(kb.belief_base, alpha)\n",
    "print(f'KB entails \"{alpha}\" : {entails}')\n",
    "\n",
    "entails = kb.pl_resolution(kb.belief_base, Not(alpha))\n",
    "print(f'KB entails \"{Not(alpha)}\" : {entails}')"
   ]
  },
  {
   "cell_type": "code",
   "execution_count": 4,
   "metadata": {},
   "outputs": [
    {
     "name": "stdout",
     "output_type": "stream",
     "text": [
      "KB after contracting c: [a | ~d, d | e, a | c, b | ~a, d | ~a, a]\n"
     ]
    }
   ],
   "source": [
    "# Contraction test\n",
    "kb_new = kb.partial_meet_contraction(kb.belief_base, Not(alpha))\n",
    "print(f\"KB after contracting {Not(alpha)}: {kb_new}\")"
   ]
  },
  {
   "cell_type": "code",
   "execution_count": 5,
   "metadata": {},
   "outputs": [
    {
     "name": "stdout",
     "output_type": "stream",
     "text": [
      "KB before revision: [a, d | ~a, a | ~d, b | ~a, b & c, d | e, a | c]\n",
      "Belief to be added: ~c\n",
      "Success: True, Inclusion: True, Vacuity: True, Extensionality: True\n",
      "Contraction satisfies AGM postulates.\n",
      "KB after revision: [a | ~d, d | e, a | c, b | ~a, d | ~a, a, ~c] \n",
      "\n"
     ]
    }
   ],
   "source": [
    "# Revision test\n",
    "kb.revise(alpha)"
   ]
  }
 ],
 "metadata": {
  "kernelspec": {
   "display_name": "ai2",
   "language": "python",
   "name": "python3"
  },
  "language_info": {
   "codemirror_mode": {
    "name": "ipython",
    "version": 3
   },
   "file_extension": ".py",
   "mimetype": "text/x-python",
   "name": "python",
   "nbconvert_exporter": "python",
   "pygments_lexer": "ipython3",
   "version": "3.12.2"
  }
 },
 "nbformat": 4,
 "nbformat_minor": 2
}
